{
 "cells": [
  {
   "cell_type": "code",
   "execution_count": null,
   "id": "55ca83a8",
   "metadata": {},
   "outputs": [],
   "source": [
    "#토큰 불러오기\n",
    "from dotenv import load_dotenv\n",
    "\n",
    "load_dotenv(override=True)"
   ]
  },
  {
   "cell_type": "code",
   "execution_count": null,
   "id": "7c92b0e2",
   "metadata": {},
   "outputs": [],
   "source": [
    "# LangSmith 추적을 설정합니다. https://smith.langchain.com\n",
    "# !pip install langchain-teddynote\n",
    "from langchain_teddynote import logging\n",
    "\n",
    "# 프로젝트 이름을 입력합니다.\n",
    "logging.langsmith(\"sarcasm_0526\")"
   ]
  },
  {
   "cell_type": "code",
   "execution_count": 3,
   "id": "5aada6c5",
   "metadata": {},
   "outputs": [],
   "source": [
    "#llm 모델 정의\n",
    "from langchain_openai import ChatOpenAI\n",
    "\n",
    "llm = ChatOpenAI(temperature=0.2, model_name=\"gpt-4o-mini\")"
   ]
  },
  {
   "cell_type": "code",
   "execution_count": null,
   "id": "59171a4a",
   "metadata": {},
   "outputs": [],
   "source": [
    "# prompt 가져오기\n",
    "from langchain_core.prompts import load_prompt\n",
    "\n",
    "prompt = load_prompt(\n",
    "    \"/Users/seojeonghun/Documents/langchain-kr/20-Projects/sarcasm/generate_context.yaml\",\n",
    "    encoding=\"utf-8\",\n",
    ")\n",
    "prompt"
   ]
  },
  {
   "cell_type": "code",
   "execution_count": 5,
   "id": "74092424",
   "metadata": {},
   "outputs": [],
   "source": [
    "# ① 출력 데이터 모델 정의 (score, reason)\n",
    "from langchain.output_parsers import PydanticOutputParser\n",
    "from pydantic import BaseModel, Field\n",
    "from typing import Optional\n",
    "\n",
    "class SentimentResult(BaseModel):\n",
    "    context: str = Field(description=\"대화 상황을 한 문장으로 요약\")\n",
    "    sentiment: str = Field(description=\"상황의 긍정/부정 분류\")\n",
    "\n",
    "output_parser = PydanticOutputParser(pydantic_object=SentimentResult)"
   ]
  },
  {
   "cell_type": "code",
   "execution_count": 6,
   "id": "01a441d0",
   "metadata": {},
   "outputs": [],
   "source": [
    "format_instructions = output_parser.get_format_instructions()\n",
    "prompt = prompt.partial(format_instructions=format_instructions)"
   ]
  },
  {
   "cell_type": "code",
   "execution_count": 7,
   "id": "4338d962",
   "metadata": {},
   "outputs": [],
   "source": [
    "# 체인 생성\n",
    "chain = prompt | llm | output_parser"
   ]
  },
  {
   "cell_type": "code",
   "execution_count": null,
   "id": "58e3720e",
   "metadata": {},
   "outputs": [],
   "source": [
    "# 데이터셋 1000개 만들기\n",
    "import os\n",
    "import shutil\n",
    "\n",
    "source_folder = \"/Users/seojeonghun/Documents/langchain-kr/20-Projects/sarcasm/Dataset/TL_05. NATEON\"\n",
    "target_folder = \"/Users/seojeonghun/Documents/langchain-kr/20-Projects/sarcasm/Dataset/sixth_data_0526\"\n",
    "os.makedirs(target_folder, exist_ok=True)\n",
    "\n",
    "# JSON 파일 목록\n",
    "json_files = [f for f in os.listdir(source_folder) if f.endswith(\".json\")]\n",
    "\n",
    "# 앞 1000개만 복사\n",
    "for file in json_files[500:600]:\n",
    "    shutil.copy(os.path.join(source_folder, file), os.path.join(target_folder, file))\n",
    "\n",
    "print(\"앞 100개 JSON 파일을 복사했습니다.\")"
   ]
  },
  {
   "cell_type": "code",
   "execution_count": null,
   "id": "977dcb28",
   "metadata": {},
   "outputs": [],
   "source": [
    "# 파일 안에 json 파일 개수 파악\n",
    "import os\n",
    "\n",
    "folder_path = \"/Users/seojeonghun/Documents/langchain-kr/20-Projects/sarcasm/Dataset/sixth_data_0526\"\n",
    "\n",
    "json_count = sum(\n",
    "    1 for file in os.listdir(folder_path)\n",
    "    if file.endswith(\".json\")\n",
    ")\n",
    "\n",
    "print(f\"JSON 파일 개수: {json_count}개\")"
   ]
  },
  {
   "cell_type": "code",
   "execution_count": 34,
   "id": "3d01384b",
   "metadata": {},
   "outputs": [],
   "source": [
    "#json 파일 불러오기\n",
    "import os\n",
    "import json\n",
    "\n",
    "entries = []\n",
    "\n",
    "# 폴더 안의 모든 JSON 파일 처리\n",
    "json_folder_path = '/Users/seojeonghun/Documents/langchain-kr/20-Projects/sarcasm/Dataset/sixth_data_0526'\n",
    "\n",
    "for filename in os.listdir(json_folder_path):\n",
    "    if filename.endswith('.json'):\n",
    "        file_path = os.path.join(json_folder_path, filename)\n",
    "        with open(file_path, 'r', encoding='utf-8') as f:\n",
    "            data = json.load(f) \n",
    "\n",
    "        # info 추출\n",
    "        for item in data['info']:\n",
    "            annotations = item['annotations']\n",
    "            subject = annotations.get('subject', '')\n",
    "            speaker_type = annotations.get('speaker_type', '')\n",
    "            text = annotations.get('text', '')\n",
    "\n",
    "            # dict 형태로 저장\n",
    "            entry = {\n",
    "                \"subject\": subject,\n",
    "                \"speaker_type\": speaker_type,\n",
    "                \"text\": text\n",
    "            }\n",
    "            entries.append(entry)"
   ]
  },
  {
   "cell_type": "code",
   "execution_count": 35,
   "id": "69b5e645",
   "metadata": {},
   "outputs": [],
   "source": [
    "# 결과를 저장할 리스트\n",
    "results = []\n",
    "\n",
    "for entry in entries:\n",
    "    # 체인 호출\n",
    "    parsed = chain.invoke({\n",
    "        \"subject\": entry[\"subject\"],\n",
    "        \"speaker_type\": entry[\"speaker_type\"],\n",
    "        \"text\": entry[\"text\"]\n",
    "    })\n",
    "    \n",
    "    # 결과 저장\n",
    "    results.append({\n",
    "        \"subject\": entry[\"subject\"],\n",
    "        \"speaker_type\": entry[\"speaker_type\"],\n",
    "        \"context\": parsed.context,\n",
    "        \"sentiment\": parsed.sentiment\n",
    "    })"
   ]
  },
  {
   "cell_type": "code",
   "execution_count": null,
   "id": "96090437",
   "metadata": {},
   "outputs": [],
   "source": [
    "test_df_1 = test_df[test_df[\"sentiment\"] == '부정']\n",
    "test_df_1.head()"
   ]
  },
  {
   "cell_type": "code",
   "execution_count": 38,
   "id": "939bcb98",
   "metadata": {},
   "outputs": [],
   "source": [
    "test_df_1.to_csv(\"/Users/seojeonghun/Documents/langchain-kr/20-Projects/sarcasm/df/negative_data_6_0531.csv\", encoding = \"utf-8-sig\")"
   ]
  },
  {
   "cell_type": "code",
   "execution_count": null,
   "id": "8db0627f",
   "metadata": {},
   "outputs": [],
   "source": [
    "test_df[\"sentiment\"].value_counts()"
   ]
  },
  {
   "cell_type": "code",
   "execution_count": null,
   "id": "62640862",
   "metadata": {},
   "outputs": [],
   "source": []
  }
 ],
 "metadata": {
  "kernelspec": {
   "display_name": "langchain-kr-xYbo28O8-py3.11",
   "language": "python",
   "name": "python3"
  },
  "language_info": {
   "codemirror_mode": {
    "name": "ipython",
    "version": 3
   },
   "file_extension": ".py",
   "mimetype": "text/x-python",
   "name": "python",
   "nbconvert_exporter": "python",
   "pygments_lexer": "ipython3",
   "version": "3.11.11"
  }
 },
 "nbformat": 4,
 "nbformat_minor": 5
}
