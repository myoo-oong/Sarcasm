{
 "cells": [
  {
   "cell_type": "code",
   "execution_count": 1,
   "id": "55ca83a8",
   "metadata": {},
   "outputs": [
    {
     "data": {
      "text/plain": [
       "True"
      ]
     },
     "execution_count": 1,
     "metadata": {},
     "output_type": "execute_result"
    }
   ],
   "source": [
    "#토큰 불러오기\n",
    "from dotenv import load_dotenv\n",
    "\n",
    "load_dotenv(override=True)"
   ]
  },
  {
   "cell_type": "code",
   "execution_count": 2,
   "id": "7c92b0e2",
   "metadata": {},
   "outputs": [
    {
     "name": "stdout",
     "output_type": "stream",
     "text": [
      "LangSmith 추적을 시작합니다.\n",
      "[프로젝트명]\n",
      "sarcasm_0526\n"
     ]
    }
   ],
   "source": [
    "# LangSmith 추적을 설정합니다. https://smith.langchain.com\n",
    "# !pip install langchain-teddynote\n",
    "from langchain_teddynote import logging\n",
    "\n",
    "# 프로젝트 이름을 입력합니다.\n",
    "logging.langsmith(\"sarcasm_0526\")"
   ]
  },
  {
   "cell_type": "code",
   "execution_count": 3,
   "id": "5aada6c5",
   "metadata": {},
   "outputs": [],
   "source": [
    "#llm 모델 정의\n",
    "from langchain_openai import ChatOpenAI\n",
    "\n",
    "llm = ChatOpenAI(temperature=0.2, model_name=\"gpt-4o-mini\")"
   ]
  },
  {
   "cell_type": "code",
   "execution_count": 4,
   "id": "59171a4a",
   "metadata": {},
   "outputs": [
    {
     "data": {
      "text/plain": [
       "PromptTemplate(input_variables=['format_instructions', 'speaker_type', 'subject', 'text'], input_types={}, partial_variables={}, template='다음은 사람들 간의 대화 내용입니다.\\n주제:{subject}\\n화자 유형:{speaker_type}\\n대화 내용:{text}\\n\\n이 대화를 읽고, 이 대화가 어떤 상황(주제, 사건)에 관한 것인지 한 문장으로 요약해주세요.(context)\\n또한, 해당 상황이 긍정인지 부정인지 분류해주세요.(sentiment)\\n출력은 \\'context\\'와 \\'sentiment\\'가 반드시 포함되어야 합니다.\\n\\n예시:\\n입력:\\n주제: 음식\\n화자 유형: 다자간 대화\\n대화 내용:\\n1 : 어제 새로 생긴 파스타 집 가봤어요?  \\n2 : 아니요, 어떤가요?  \\n1 : 별로였어요. 해산물 파스타는 비리고, 면도 덜 익었더라고요.  \\n3 : 분위기는 괜찮다던데요?  \\n1 : 분위기는 괜찮았지만, 서비스도 느리고 전반적으로 실망스러웠어요.\\n\\n출력:\\n{{\"context\": \"새로 오픈한 파스타 가게의 음식 맛과 서비스가 기대에 못 미쳐 실망한 대화\",\\n  \"sentiment\": \"부정\"}}\\n\\n{format_instructions}\\n\\n이제 다음 대화를 주제를 요약하세요:\\n\\n입력 대화:\\n{text}\\n\\n출력:\\n')"
      ]
     },
     "execution_count": 4,
     "metadata": {},
     "output_type": "execute_result"
    }
   ],
   "source": [
    "# prompt 가져오기\n",
    "from langchain_core.prompts import load_prompt\n",
    "\n",
    "prompt = load_prompt(\n",
    "    \"/Users/seojeonghun/Documents/langchain-kr/20-Projects/sarcasm/generate_context.yaml\",\n",
    "    encoding=\"utf-8\",\n",
    ")\n",
    "prompt"
   ]
  },
  {
   "cell_type": "code",
   "execution_count": 5,
   "id": "74092424",
   "metadata": {},
   "outputs": [],
   "source": [
    "# ① 출력 데이터 모델 정의 (score, reason)\n",
    "from langchain.output_parsers import PydanticOutputParser\n",
    "from pydantic import BaseModel, Field\n",
    "from typing import Optional\n",
    "\n",
    "class SentimentResult(BaseModel):\n",
    "    context: str = Field(description=\"대화 상황을 한 문장으로 요약\")\n",
    "    sentiment: str = Field(description=\"상황의 긍정/부정 분류\")\n",
    "\n",
    "output_parser = PydanticOutputParser(pydantic_object=SentimentResult)"
   ]
  },
  {
   "cell_type": "code",
   "execution_count": 6,
   "id": "01a441d0",
   "metadata": {},
   "outputs": [],
   "source": [
    "format_instructions = output_parser.get_format_instructions()\n",
    "prompt = prompt.partial(format_instructions=format_instructions)"
   ]
  },
  {
   "cell_type": "code",
   "execution_count": 7,
   "id": "4338d962",
   "metadata": {},
   "outputs": [],
   "source": [
    "# 체인 생성\n",
    "chain = prompt | llm | output_parser"
   ]
  },
  {
   "cell_type": "code",
   "execution_count": 32,
   "id": "58e3720e",
   "metadata": {},
   "outputs": [
    {
     "name": "stdout",
     "output_type": "stream",
     "text": [
      "앞 100개 JSON 파일을 복사했습니다.\n"
     ]
    }
   ],
   "source": [
    "# 데이터셋 1000개 만들기\n",
    "import os\n",
    "import shutil\n",
    "\n",
    "source_folder = \"/Users/seojeonghun/Documents/langchain-kr/20-Projects/sarcasm/Dataset/TL_05. NATEON\"\n",
    "target_folder = \"/Users/seojeonghun/Documents/langchain-kr/20-Projects/sarcasm/Dataset/sixth_data_0526\"\n",
    "os.makedirs(target_folder, exist_ok=True)\n",
    "\n",
    "# JSON 파일 목록\n",
    "json_files = [f for f in os.listdir(source_folder) if f.endswith(\".json\")]\n",
    "\n",
    "# 앞 1000개만 복사\n",
    "for file in json_files[500:600]:\n",
    "    shutil.copy(os.path.join(source_folder, file), os.path.join(target_folder, file))\n",
    "\n",
    "print(\"앞 100개 JSON 파일을 복사했습니다.\")"
   ]
  },
  {
   "cell_type": "code",
   "execution_count": 33,
   "id": "977dcb28",
   "metadata": {},
   "outputs": [
    {
     "name": "stdout",
     "output_type": "stream",
     "text": [
      "JSON 파일 개수: 500개\n"
     ]
    }
   ],
   "source": [
    "# 파일 안에 json 파일 개수 파악\n",
    "import os\n",
    "\n",
    "folder_path = \"/Users/seojeonghun/Documents/langchain-kr/20-Projects/sarcasm/Dataset/sixth_data_0526\"\n",
    "\n",
    "json_count = sum(\n",
    "    1 for file in os.listdir(folder_path)\n",
    "    if file.endswith(\".json\")\n",
    ")\n",
    "\n",
    "print(f\"JSON 파일 개수: {json_count}개\")"
   ]
  },
  {
   "cell_type": "code",
   "execution_count": 34,
   "id": "3d01384b",
   "metadata": {},
   "outputs": [],
   "source": [
    "#json 파일 불러오기\n",
    "import os\n",
    "import json\n",
    "\n",
    "entries = []\n",
    "\n",
    "# 폴더 안의 모든 JSON 파일 처리\n",
    "json_folder_path = '/Users/seojeonghun/Documents/langchain-kr/20-Projects/sarcasm/Dataset/sixth_data_0526'\n",
    "\n",
    "for filename in os.listdir(json_folder_path):\n",
    "    if filename.endswith('.json'):\n",
    "        file_path = os.path.join(json_folder_path, filename)\n",
    "        with open(file_path, 'r', encoding='utf-8') as f:\n",
    "            data = json.load(f) \n",
    "\n",
    "        # info 추출\n",
    "        for item in data['info']:\n",
    "            annotations = item['annotations']\n",
    "            subject = annotations.get('subject', '')\n",
    "            speaker_type = annotations.get('speaker_type', '')\n",
    "            text = annotations.get('text', '')\n",
    "\n",
    "            # dict 형태로 저장\n",
    "            entry = {\n",
    "                \"subject\": subject,\n",
    "                \"speaker_type\": speaker_type,\n",
    "                \"text\": text\n",
    "            }\n",
    "            entries.append(entry)"
   ]
  },
  {
   "cell_type": "code",
   "execution_count": 35,
   "id": "69b5e645",
   "metadata": {},
   "outputs": [],
   "source": [
    "# 결과를 저장할 리스트\n",
    "results = []\n",
    "\n",
    "for entry in entries:\n",
    "    # 체인 호출\n",
    "    parsed = chain.invoke({\n",
    "        \"subject\": entry[\"subject\"],\n",
    "        \"speaker_type\": entry[\"speaker_type\"],\n",
    "        \"text\": entry[\"text\"]\n",
    "    })\n",
    "    \n",
    "    # 결과 저장\n",
    "    results.append({\n",
    "        \"subject\": entry[\"subject\"],\n",
    "        \"speaker_type\": entry[\"speaker_type\"],\n",
    "        \"context\": parsed.context,\n",
    "        \"sentiment\": parsed.sentiment\n",
    "    })"
   ]
  },
  {
   "cell_type": "code",
   "execution_count": 37,
   "id": "96090437",
   "metadata": {},
   "outputs": [
    {
     "data": {
      "text/html": [
       "<div>\n",
       "<style scoped>\n",
       "    .dataframe tbody tr th:only-of-type {\n",
       "        vertical-align: middle;\n",
       "    }\n",
       "\n",
       "    .dataframe tbody tr th {\n",
       "        vertical-align: top;\n",
       "    }\n",
       "\n",
       "    .dataframe thead th {\n",
       "        text-align: right;\n",
       "    }\n",
       "</style>\n",
       "<table border=\"1\" class=\"dataframe\">\n",
       "  <thead>\n",
       "    <tr style=\"text-align: right;\">\n",
       "      <th></th>\n",
       "      <th>subject</th>\n",
       "      <th>speaker_type</th>\n",
       "      <th>context</th>\n",
       "      <th>sentiment</th>\n",
       "    </tr>\n",
       "  </thead>\n",
       "  <tbody>\n",
       "    <tr>\n",
       "      <th>1</th>\n",
       "      <td>사회이슈</td>\n",
       "      <td>다자간 대화</td>\n",
       "      <td>방송인 송선미씨 남편 피살 사건과 관련된 충격적인 소식과 진돗개 물림 사건에 대한 ...</td>\n",
       "      <td>부정</td>\n",
       "    </tr>\n",
       "    <tr>\n",
       "      <th>4</th>\n",
       "      <td>주거와 생활</td>\n",
       "      <td>1:1</td>\n",
       "      <td>집에서 발생하는 물 새는 문제와 그로 인한 스트레스에 대한 대화</td>\n",
       "      <td>부정</td>\n",
       "    </tr>\n",
       "    <tr>\n",
       "      <th>8</th>\n",
       "      <td>건강</td>\n",
       "      <td>1:1</td>\n",
       "      <td>대학 병원에 다니는 친구의 난치병과 보험에 대한 대화</td>\n",
       "      <td>부정</td>\n",
       "    </tr>\n",
       "    <tr>\n",
       "      <th>9</th>\n",
       "      <td>건강</td>\n",
       "      <td>다자간 대화</td>\n",
       "      <td>부스터샷 접종에 대한 우려와 경험을 나누는 대화</td>\n",
       "      <td>부정</td>\n",
       "    </tr>\n",
       "    <tr>\n",
       "      <th>11</th>\n",
       "      <td>식음료</td>\n",
       "      <td>1:1</td>\n",
       "      <td>해외 여행 중의 기억과 전 남자친구와의 갈등에 대한 대화</td>\n",
       "      <td>부정</td>\n",
       "    </tr>\n",
       "  </tbody>\n",
       "</table>\n",
       "</div>"
      ],
      "text/plain": [
       "   subject speaker_type                                            context  \\\n",
       "1     사회이슈       다자간 대화  방송인 송선미씨 남편 피살 사건과 관련된 충격적인 소식과 진돗개 물림 사건에 대한 ...   \n",
       "4   주거와 생활          1:1                집에서 발생하는 물 새는 문제와 그로 인한 스트레스에 대한 대화   \n",
       "8       건강          1:1                      대학 병원에 다니는 친구의 난치병과 보험에 대한 대화   \n",
       "9       건강       다자간 대화                         부스터샷 접종에 대한 우려와 경험을 나누는 대화   \n",
       "11     식음료          1:1                    해외 여행 중의 기억과 전 남자친구와의 갈등에 대한 대화   \n",
       "\n",
       "   sentiment  \n",
       "1         부정  \n",
       "4         부정  \n",
       "8         부정  \n",
       "9         부정  \n",
       "11        부정  "
      ]
     },
     "execution_count": 37,
     "metadata": {},
     "output_type": "execute_result"
    }
   ],
   "source": [
    "test_df_1 = test_df[test_df[\"sentiment\"] == '부정']\n",
    "test_df_1.head()"
   ]
  },
  {
   "cell_type": "code",
   "execution_count": 38,
   "id": "939bcb98",
   "metadata": {},
   "outputs": [],
   "source": [
    "test_df_1.to_csv(\"/Users/seojeonghun/Documents/langchain-kr/20-Projects/sarcasm/df/negative_data_6_0531.csv\", encoding = \"utf-8-sig\")"
   ]
  },
  {
   "cell_type": "code",
   "execution_count": 21,
   "id": "8db0627f",
   "metadata": {},
   "outputs": [
    {
     "data": {
      "text/plain": [
       "sentiment\n",
       "긍정    266\n",
       "부정    163\n",
       "중립     71\n",
       "Name: count, dtype: int64"
      ]
     },
     "execution_count": 21,
     "metadata": {},
     "output_type": "execute_result"
    }
   ],
   "source": [
    "test_df[\"sentiment\"].value_counts()"
   ]
  },
  {
   "cell_type": "code",
   "execution_count": null,
   "id": "62640862",
   "metadata": {},
   "outputs": [],
   "source": []
  }
 ],
 "metadata": {
  "kernelspec": {
   "display_name": "langchain-kr-xYbo28O8-py3.11",
   "language": "python",
   "name": "python3"
  },
  "language_info": {
   "codemirror_mode": {
    "name": "ipython",
    "version": 3
   },
   "file_extension": ".py",
   "mimetype": "text/x-python",
   "name": "python",
   "nbconvert_exporter": "python",
   "pygments_lexer": "ipython3",
   "version": "3.11.11"
  }
 },
 "nbformat": 4,
 "nbformat_minor": 5
}
