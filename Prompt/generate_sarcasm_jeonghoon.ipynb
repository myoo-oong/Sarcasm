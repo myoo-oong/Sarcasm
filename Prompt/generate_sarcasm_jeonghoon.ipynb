{
 "cells": [
  {
   "cell_type": "markdown",
   "id": "8dc3db4b",
   "metadata": {},
   "source": [
    "### 풍자 문장 생성"
   ]
  },
  {
   "cell_type": "code",
   "execution_count": 1,
   "id": "55ca83a8",
   "metadata": {},
   "outputs": [
    {
     "data": {
      "text/plain": [
       "True"
      ]
     },
     "execution_count": 1,
     "metadata": {},
     "output_type": "execute_result"
    }
   ],
   "source": [
    "# 토큰 불러오기\n",
    "from dotenv import load_dotenv\n",
    "\n",
    "load_dotenv(override=True)"
   ]
  },
  {
   "cell_type": "code",
   "execution_count": null,
   "id": "7c92b0e2",
   "metadata": {},
   "outputs": [],
   "source": [
    "# LangSmith 추적을 설정합니다. https://smith.langchain.com\n",
    "# !pip install langchain-teddynote\n",
    "from langchain_teddynote import logging\n",
    "\n",
    "# 프로젝트 이름을 입력합니다.\n",
    "logging.langsmith(\"sarcasm_generate_0526\")"
   ]
  },
  {
   "cell_type": "code",
   "execution_count": 3,
   "id": "5aada6c5",
   "metadata": {},
   "outputs": [],
   "source": [
    "# llm 모델 정의\n",
    "from langchain_openai import ChatOpenAI\n",
    "\n",
    "llm = ChatOpenAI(temperature=1.0, model_name=\"gpt-4o\")"
   ]
  },
  {
   "cell_type": "code",
   "execution_count": null,
   "id": "59171a4a",
   "metadata": {},
   "outputs": [],
   "source": [
    "# prompt 가져오기\n",
    "from langchain_core.prompts import load_prompt\n",
    "\n",
    "prompt = load_prompt(\n",
    "    \"/Users/seojeonghun/Documents/langchain-kr/20-Projects/sarcasm/generate_sarcasm_zeroshot_jeonghoon.yaml\",\n",
    "    encoding=\"utf-8\",\n",
    ")\n",
    "prompt"
   ]
  },
  {
   "cell_type": "code",
   "execution_count": null,
   "id": "249c433a",
   "metadata": {},
   "outputs": [],
   "source": [
    "from pydantic import BaseModel, Field\n",
    "from langchain.output_parsers import PydanticOutputParser\n",
    "from pydantic import BaseModel, Field\n",
    "from typing import Optional\n",
    "\n",
    "\n",
    "# ① 원하는 데이터 구조 정의\n",
    "class SarcasmOutput(BaseModel):\n",
    "    sarcasm: str = Field(description=\"주어진 context를 반어적이고 과장하여 표현한 문장\")\n",
    "    non_sarcasm: str = Field(description=\"주어진 context를 non_sarcasm으로 표현한 문장\")\n",
    "\n",
    "\n",
    "# ② 출력 파서 설정\n",
    "output_parser = PydanticOutputParser(pydantic_object=SarcasmOutput)\n",
    "\n",
    "# ③ 출력 포맷 지시사항 확인\n",
    "print(output_parser.get_format_instructions())"
   ]
  },
  {
   "cell_type": "code",
   "execution_count": 6,
   "id": "400e6d29",
   "metadata": {},
   "outputs": [],
   "source": [
    "format_instructions = output_parser.get_format_instructions()\n",
    "prompt = prompt.partial(format_instructions=format_instructions)"
   ]
  },
  {
   "cell_type": "code",
   "execution_count": 7,
   "id": "4338d962",
   "metadata": {},
   "outputs": [],
   "source": [
    "# 체인 생성\n",
    "chain = prompt | llm | output_parser"
   ]
  },
  {
   "cell_type": "code",
   "execution_count": null,
   "id": "213e4119",
   "metadata": {},
   "outputs": [],
   "source": [
    "# 데이터 불러오기\n",
    "import pandas as pd\n",
    "\n",
    "df = pd.read_csv(\n",
    "    \"/Users/seojeonghun/Documents/langchain-kr/20-Projects/sarcasm/df/negative_data_0531.csv\",\n",
    "    encoding=\"utf-8\",\n",
    ")\n",
    "\n",
    "# df = df[300:639].copy()\n",
    "df.info()"
   ]
  },
  {
   "cell_type": "code",
   "execution_count": 10,
   "id": "a275862c",
   "metadata": {},
   "outputs": [],
   "source": [
    "# input 데이터 로드\n",
    "input_data = df[\"context\"]\n",
    "\n",
    "input_data_list = input_data.to_list()"
   ]
  },
  {
   "cell_type": "code",
   "execution_count": null,
   "id": "3d01384b",
   "metadata": {},
   "outputs": [],
   "source": [
    "results = []\n",
    "\n",
    "for context in input_data_list:\n",
    "    try:\n",
    "        # LLM 호출 및 결과 반환\n",
    "        result = chain.invoke(\n",
    "            {\"context\": context, \"format_instructions\": format_instructions}\n",
    "        )\n",
    "\n",
    "        # 결과가 dict 또는 SarcasmOutput 객체라면 속성 접근\n",
    "        sarcasm = getattr(result, \"sarcasm\", None)\n",
    "        non_sarcasm = getattr(result, \"non_sarcasm\", None)\n",
    "\n",
    "    except Exception as e:\n",
    "        print(f\"[ERROR] context 처리 중 오류 발생:\\n{context}\\n{e}\")\n",
    "        sarcasm = None\n",
    "        non_sarcasm = None\n",
    "\n",
    "    results.append(\n",
    "        {\n",
    "            \"context\": context,\n",
    "            \"sarcasm\": sarcasm,\n",
    "            \"non_sarcasm\": non_sarcasm,\n",
    "            \"explanation\": None,\n",
    "        }\n",
    "    )\n",
    "\n",
    "# DataFrame 생성 및 저장\n",
    "test_df = pd.DataFrame(results)\n",
    "\n",
    "test_df.head()\n",
    "\n",
    "test_df.to_csv(\n",
    "    \"/Users/seojeonghun/Documents/langchain-kr/20-Projects/sarcasm/df/generate_sarcasm/341개 데이터_0531.csv\",\n",
    "    encoding=\"utf-8-sig\",\n",
    ")\n"
   ]
  },
  {
   "cell_type": "code",
   "execution_count": null,
   "id": "7543ab9a",
   "metadata": {},
   "outputs": [],
   "source": []
  },
  {
   "cell_type": "code",
   "execution_count": null,
   "id": "29ab9f5b",
   "metadata": {},
   "outputs": [],
   "source": [
    "import pandas as pd\n",
    "\n",
    "test_df = pd.DataFrame(results)\n",
    "\n",
    "test_df.info()"
   ]
  },
  {
   "cell_type": "code",
   "execution_count": null,
   "id": "50190664",
   "metadata": {},
   "outputs": [],
   "source": [
    "test_df.to_csv(\n",
    "    \"/Users/seojeonghun/Documents/langchain-kr/20-Projects/sarcasm/df/generate_sarcasm/1000개_temperature_1.0_zeroshot_1.csv\",\n",
    "    encoding=\"utf-8-sig\",\n",
    ")"
   ]
  },
  {
   "cell_type": "markdown",
   "id": "317d66d0",
   "metadata": {},
   "source": [
    "### 칼럼명 통일"
   ]
  },
  {
   "cell_type": "code",
   "execution_count": null,
   "id": "d2abd798",
   "metadata": {},
   "outputs": [],
   "source": [
    "import pandas as pd\n",
    "\n",
    "df = pd.read_csv(\n",
    "    \"/Users/seojeonghun/Documents/langchain-kr/20-Projects/sarcasm/df/generate_sarcasm/341개 데이터_0531.csv\",\n",
    "    encoding=\"utf-8-sig\",\n",
    ")\n",
    "\n",
    "df.info()"
   ]
  },
  {
   "cell_type": "code",
   "execution_count": null,
   "id": "6d7bd141",
   "metadata": {},
   "outputs": [],
   "source": [
    "# sarcasm 데이터 가공\n",
    "df_sarcasm = df[[\"context\", \"sarcasm\"]].copy()\n",
    "df_sarcasm.rename(columns={\"sarcasm\": \"response\"}, inplace=True)\n",
    "df_sarcasm[\"label\"] = \"Sarcasm\"\n",
    "df_sarcasm[\"sarcasm_explanation\"] = None\n",
    "\n",
    "# non-sarcasm 데이터 가공\n",
    "df_non_sarcasm = df[[\"context\", \"non_sarcasm\"]].copy()\n",
    "df_non_sarcasm.rename(columns={\"non_sarcasm\": \"response\"}, inplace=True)\n",
    "df_non_sarcasm[\"label\"] = \"Non-sarcasm\"\n",
    "df_non_sarcasm[\"sarcasm_explanation\"] = None\n",
    "\n",
    "# 병합 후 인덱스 재설정\n",
    "df_final = pd.concat([df_sarcasm, df_non_sarcasm], ignore_index=True)\n",
    "df_final.reset_index(inplace=True)\n",
    "\n",
    "# 결과 출력 예시\n",
    "df_final.info()"
   ]
  },
  {
   "cell_type": "code",
   "execution_count": 14,
   "id": "1b5f3e67",
   "metadata": {},
   "outputs": [],
   "source": [
    "# 결과 저장 (선택)\n",
    "df_final.to_csv(\n",
    "    \"/Users/seojeonghun/Documents/langchain-kr/20-Projects/sarcasm/df/generate_sarcasm/341개 데이터_전처리_0531.csv\",\n",
    "    index=False,\n",
    ")"
   ]
  },
  {
   "cell_type": "markdown",
   "id": "bcb91460",
   "metadata": {},
   "source": [
    "### sarcasm, non_sarcasm explanation 작성"
   ]
  },
  {
   "cell_type": "code",
   "execution_count": null,
   "id": "8412e182",
   "metadata": {},
   "outputs": [],
   "source": [
    "# 토큰 불러오기\n",
    "from dotenv import load_dotenv\n",
    "\n",
    "load_dotenv(override=True)"
   ]
  },
  {
   "cell_type": "code",
   "execution_count": null,
   "id": "21a84c7d",
   "metadata": {},
   "outputs": [],
   "source": [
    "# LangSmith 추적을 설정합니다. https://smith.langchain.com\n",
    "# !pip install langchain-teddynote\n",
    "from langchain_teddynote import logging\n",
    "\n",
    "# 프로젝트 이름을 입력합니다.\n",
    "logging.langsmith(\"sarcasm_generate_0526\")"
   ]
  },
  {
   "cell_type": "code",
   "execution_count": 17,
   "id": "e8e5366d",
   "metadata": {},
   "outputs": [],
   "source": [
    "# llm 모델 정의\n",
    "from langchain_openai import ChatOpenAI\n",
    "\n",
    "llm = ChatOpenAI(temperature=1.0, model_name=\"gpt-4o-mini\")"
   ]
  },
  {
   "cell_type": "code",
   "execution_count": null,
   "id": "f3d9d288",
   "metadata": {},
   "outputs": [],
   "source": [
    "# 데이터 불러오기\n",
    "import pandas as pd\n",
    "\n",
    "df = pd.read_csv(\n",
    "    \"/Users/seojeonghun/Documents/langchain-kr/20-Projects/sarcasm/df/generate_sarcasm/341개 데이터_전처리_0531.csv\",\n",
    "    encoding=\"utf-8\",\n",
    ")\n",
    "\n",
    "df = df.dropna(subset=['context'])\n",
    "df.info()\n"
   ]
  },
  {
   "cell_type": "code",
   "execution_count": 19,
   "id": "b70e2dde",
   "metadata": {},
   "outputs": [],
   "source": [
    "from langchain_core.prompts import PromptTemplate\n",
    "\n",
    "prompt = PromptTemplate(\n",
    "    input_variables=[\"context\", \"response\", \"label\"],\n",
    "    template=\"\"\"\n",
    "당신은 sarcasm과 non_sarcasm을 구분하는 언어 전문가입니다.\n",
    "다음 내용을 참고하여, response 문장이 '{label}'인 이유를 한 문장으로 작성해주세요.\n",
    "\n",
    "context: {context}\n",
    "response: {response}\n",
    "label: {label}\n",
    "\n",
    "#Answer:\n",
    "\"\"\",\n",
    ")"
   ]
  },
  {
   "cell_type": "code",
   "execution_count": null,
   "id": "ea6b5bc5",
   "metadata": {},
   "outputs": [],
   "source": [
    "from tqdm import tqdm\n",
    "\n",
    "explanations = []\n",
    "\n",
    "for _, row in tqdm(df.iterrows(), total=len(df)):\n",
    "    input_data = {\n",
    "        \"context\": row[\"context\"],\n",
    "        \"response\": row[\"response\"],\n",
    "        \"label\": row[\"label\"],\n",
    "    }\n",
    "    answer = llm.invoke(prompt.format(**input_data)).content.strip()\n",
    "    explanations.append(answer)\n",
    "\n",
    "df[\"sarcasm_explanation\"] = explanations"
   ]
  },
  {
   "cell_type": "code",
   "execution_count": null,
   "id": "88de9fa5",
   "metadata": {},
   "outputs": [],
   "source": [
    "df.head()"
   ]
  },
  {
   "cell_type": "code",
   "execution_count": 22,
   "id": "fe7c6dbe",
   "metadata": {},
   "outputs": [],
   "source": [
    "df.to_csv(\n",
    "    \"/Users/seojeonghun/Documents/langchain-kr/20-Projects/sarcasm/df/generate_sarcasm/0531_최종.csv\"\n",
    ")"
   ]
  },
  {
   "cell_type": "code",
   "execution_count": null,
   "id": "ef657861",
   "metadata": {},
   "outputs": [],
   "source": []
  }
 ],
 "metadata": {
  "kernelspec": {
   "display_name": "langchain-kr-xYbo28O8-py3.11",
   "language": "python",
   "name": "python3"
  },
  "language_info": {
   "codemirror_mode": {
    "name": "ipython",
    "version": 3
   },
   "file_extension": ".py",
   "mimetype": "text/x-python",
   "name": "python",
   "nbconvert_exporter": "python",
   "pygments_lexer": "ipython3",
   "version": "3.11.11"
  }
 },
 "nbformat": 4,
 "nbformat_minor": 5
}
